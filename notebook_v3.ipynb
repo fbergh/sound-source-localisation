{
 "cells": [
  {
   "cell_type": "code",
   "execution_count": null,
   "metadata": {
    "colab": {
     "base_uri": "https://localhost:8080/",
     "height": 264,
     "resources": {
      "http://localhost:8080/nbextensions/google.colab/files.js": {
       "data": "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",
       "headers": [
        [
         "content-type",
         "application/javascript"
        ]
       ],
       "ok": true,
       "status": 200,
       "status_text": ""
      }
     }
    },
    "colab_type": "code",
    "id": "ZKatvCx6wncP",
    "outputId": "cfda08a3-c779-4884-da09-465e154f41e3"
   },
   "outputs": [],
   "source": [
    "from google.colab import files\n",
    "files.upload()"
   ]
  },
  {
   "cell_type": "code",
   "execution_count": null,
   "metadata": {},
   "outputs": [],
   "source": [
    "torch.cuda.device_count()"
   ]
  },
  {
   "cell_type": "code",
   "execution_count": 1,
   "metadata": {
    "colab": {
     "base_uri": "https://localhost:8080/",
     "height": 119
    },
    "colab_type": "code",
    "id": "VFHqKy0rwmgF",
    "outputId": "0a2a20ee-5f91-4829-e146-501ba401ea84"
   },
   "outputs": [
    {
     "name": "stdout",
     "output_type": "stream",
     "text": [
      "cuda:1\n",
      "65000\n"
     ]
    }
   ],
   "source": [
    "#!pip install pyroomacoustics\n",
    "import torch\n",
    "import torch.nn as nn\n",
    "from torch.utils.data import DataLoader\n",
    "import numpy as np\n",
    "from room_simulation import Simulation\n",
    "from sine_dataset import SineData\n",
    "from network import SSLConvNet as ConvNet\n",
    "from network import SSLConvNetCosLoss as ConvNetCosLoss\n",
    "from logger import Logger\n",
    "import matplotlib.pyplot as plt\n",
    "import math\n",
    "import seaborn as sns\n",
    "\n",
    "# Important paramters for training DNN\n",
    "device = torch.device(\"cuda:1\" if torch.cuda.is_available() else \"cpu\")\n",
    "print(device)\n",
    "EPOCHS = 15000\n",
    "BATCH_SIZE = 32\n",
    "STEP_SIZE = 10\n",
    "\n",
    "# Important simulation and data constants\n",
    "NR_MICS = 2                                         # Number of mircophones in simulation\n",
    "RAD = 50                                         # Radius of ellipse of microphone placements in cm\n",
    "RADII = [50, 500, 5000]\n",
    "ROOM_SIMS = []\n",
    "DATASETS = []\n",
    "MIC_L_DIST = (11, -10)                         # Distance between center and left microphone in cm on x-axis\n",
    "MIC_R_DIST = (11, 10)                  # Distance between center and right microphone in cm on y-axis\n",
    "# Absorption factor of the room in the simulation (1 = no reverb)\n",
    "ABSORPTION = 0.0\n",
    "# Minimal frequency of a sine wave according to Nyquist theorem\n",
    "MAX_FREQ = 20000\n",
    "SAMPLE_RATE = int(MAX_FREQ*2.2)                            # Sampling rate of signals in Hz\n",
    "TIME = 1                                            # Time in seconds of sine wave\n",
    "# MIN_LENGTH = SAMPLE_RATE*TIME + int(TIME*MAX_FREQ*0.2)                                  # Length a single sine signal should have\n",
    "MIN_LENGTH = 65000\n",
    "MIN_LENGTH_MSECOS = 48000\n",
    "TO_RAD = np.pi/180                                  # Constant to convert degrees to radians\n",
    "TO_DEG = 180/np.pi                                  # Constant to convert radians to degrees\n",
    "print(MIN_LENGTH)\n",
    "\n",
    "for rad in RADII:\n",
    "  roomSim = Simulation(SAMPLE_RATE, rad, ABSORPTION, MIC_L_DIST, MIC_R_DIST, NR_MICS)\n",
    "  ROOM_SIMS.append(roomSim)\n",
    "\n",
    "  DATASETS.append(SineData(BATCH_SIZE, roomSim, TIME, MIN_LENGTH, MAX_FREQ))\n",
    "\n",
    "\n"
   ]
  },
  {
   "cell_type": "code",
   "execution_count": 2,
   "metadata": {
    "colab": {},
    "colab_type": "code",
    "id": "2zAUHG5gwmgN"
   },
   "outputs": [],
   "source": [
    "# # Plot room\n",
    "# roomSim.plotRoom()\n",
    "\n",
    "# Define custom loss function\n",
    "class CosBorderLoss(torch.nn.Module):\n",
    "\n",
    "    def __init__(self):\n",
    "        super(CosBorderLoss, self).__init__()\n",
    "\n",
    "    def forward(self, pred, target):\n",
    "        radial = torch.abs(torch.cos(pred-target) - torch.cos(target-target))\n",
    "        border = nn.functional.relu(pred-2*np.pi) + nn.functional.relu(-pred)\n",
    "        return torch.sum(radial + border)\n",
    "\n",
    "# Plot heatmap of custom loss function\n",
    "# criterion = CosBorderLoss()\n",
    "# cos_border_loss = np.zeros((360,360))\n",
    "# i = 0\n",
    "# j = 0\n",
    "# for deg1 in np.arange(360):#(-360,720):\n",
    "#     for deg2 in np.arange(360):  # (-360, 720):\n",
    "#         rad1 = torch.as_tensor(deg1*TO_RAD)\n",
    "#         rad2 = torch.as_tensor(deg2*TO_RAD)\n",
    "#         cos_border_loss[i, j] = criterion(rad1, rad2)\n",
    "#         j += 1\n",
    "#     j = 0\n",
    "#     i += 1\n",
    "# ax = sns.heatmap(cos_border_loss)\n",
    "# plt.title(\"Heatmap of loss function based on cos + border\")\n",
    "# plt.xlabel(\"Angles in degrees (should be range [-2pi,4pi])\")\n",
    "# plt.ylabel(\"Angles in degrees (should be range [-2pi,4pi])\")\n",
    "# plt.show()\n"
   ]
  },
  {
   "cell_type": "code",
   "execution_count": null,
   "metadata": {
    "colab": {
     "base_uri": "https://localhost:8080/",
     "height": 607
    },
    "colab_type": "code",
    "id": "nu0U9WOXwmgU",
    "outputId": "81087e4f-9d93-4d20-fee3-8579659a0eec",
    "scrolled": true
   },
   "outputs": [
    {
     "name": "stdout",
     "output_type": "stream",
     "text": [
      "----------- MODEL 0 -----------\n",
      "Rad = 50\n",
      "Loss of epoch 0 = 4937.670768341682\n"
     ]
    },
    {
     "data": {
      "image/png": "[encoded data removed]",
      "text/plain": [
       "<Figure size 432x288 with 1 Axes>"
      ]
     },
     "metadata": {
      "needs_background": "light"
     },
     "output_type": "display_data"
    }
   ],
   "source": [
    "# Initialize network and train parameters\n",
    "# torch.cuda.empty_cache()\n",
    "if EPOCHS > 0:\n",
    "    for i in range(len(RADII)):\n",
    "        print(\"----------- MODEL \" + str(i) + \" -----------\")\n",
    "        print(\"Rad = \"+str(RADII[i]))\n",
    "        net = ConvNet(DATASETS[i].MIN_LENGTH)\n",
    "        net = net.double().to(device)\n",
    "        criterion = nn.MSELoss()\n",
    "        optimiser = torch.optim.Adam(net.parameters())\n",
    "        logger = Logger(\"./logs\", \"RAD\" + str(RADII[i]))\n",
    "        dataLoader = DataLoader(DATASETS[i], batch_size=BATCH_SIZE)\n",
    "\n",
    "        for curEpoch in range(EPOCHS):\n",
    "            # Reset seed so random sine data is generated, otherwise RNG is repeated\n",
    "            np.random.seed()\n",
    "\n",
    "            # Gather input data & labels\n",
    "            inL, inR, labelX, labelY, _ = next(iter(dataLoader))\n",
    "            inL = inL.double().to(device)\n",
    "            inR = inR.double().to(device)\n",
    "            labelX = labelX.double().to(device)\n",
    "            labelY = labelY.double().to(device)\n",
    "\n",
    "            # Training loop\n",
    "            optimiser.zero_grad()\n",
    "            outputX, outputY = net(inL, inR, debug = False)\n",
    "            outputX = torch.squeeze(outputX)\n",
    "            outputY = torch.squeeze(outputY)\n",
    "            loss = criterion(outputX, labelX) + criterion(outputY, labelY)\n",
    "            loss.backward()\n",
    "            optimiser.step()\n",
    "\n",
    "            if curEpoch % STEP_SIZE == 0: \n",
    "                # Log loss in tensorboard as scalars\n",
    "                logger.scalar_summary(\"loss\", loss.item(), curEpoch)\n",
    "\n",
    "                outputXnp = outputX.detach().cpu().numpy()\n",
    "                outputYnp = outputY.detach().cpu().numpy()\n",
    "                labelXnp = labelX.detach().cpu().numpy()\n",
    "                labelYnp = labelY.detach().cpu().numpy()\n",
    "\n",
    "                # Plot the predicted vs actual angles\n",
    "                if curEpoch % 100 == 0:\n",
    "                    print(\"Loss of epoch \"+str(curEpoch)+\" = \"+str(loss.item()))\n",
    "                    \n",
    "                    plt.scatter(labelXnp, outputXnp, c=\"red\", label = \"X\")\n",
    "                    plt.scatter(labelYnp, outputYnp, c=\"blue\", label = \"Y\")\n",
    "                    plt.title(\"Pred X (red) and Y (blue) coords vs actual coords of epoch \" + str(curEpoch) + \" of radius = \" + str(RADII[i]))\n",
    "                    plt.xlabel(\"Actual X/Y values\")\n",
    "                    plt.ylabel(\"Predicted X/Y values\")\n",
    "                    plt.legend()\n",
    "                    plt.show()\n",
    "\n",
    "                # Log gradients and weights in tensorboard as distributions and histograms\n",
    "                for tag, value in net.named_parameters():\n",
    "                    tag = tag.replace('.', '/')\n",
    "                    logger.histo_summary(tag, value.data.cpu().numpy(), curEpoch)\n",
    "                    logger.histo_summary(tag+'/grad', value.grad.data.cpu().numpy(), curEpoch)\n",
    "\n",
    "                    # Log gradient of last layer as scalar\n",
    "                    if \"fc\" in tag and \"weight\" in tag:\n",
    "                        last_grad_norm = np.sqrt(np.mean(np.square(value.grad.data.cpu().numpy())))\n",
    "                        logger.scalar_summary(\"last_grad_norm\", last_grad_norm, curEpoch)\n",
    "\n",
    "            curEpoch += 1\n",
    "\n",
    "        del net, inL, inR, labelX, labelY\n",
    "            \n",
    "        torch.save(net.state_dict(), \"ConvNet_Rad\" + str(RADII[i]))\n",
    "\n"
   ]
  },
  {
   "cell_type": "code",
   "execution_count": null,
   "metadata": {},
   "outputs": [],
   "source": [
    "roomSim = Simulation(SAMPLE_RATE, RAD, ABSORPTION, MIC_L_DIST, MIC_R_DIST, NR_MICS)\n",
    "dataset = SineData(BATCH_SIZE, roomSim, TIME, MIN_LENGTH_MSECOS, MAX_FREQ)\n",
    "\n",
    "if EPOCHS > 0:\n",
    "    net = ConvNet(MIN_LENGTH)\n",
    "    net = net.double().to(device)\n",
    "    criterion = nn.MSELoss()\n",
    "    optimiser = torch.optim.Adam(net.parameters())\n",
    "    logger = Logger(\"./logs\", \"MSE\")\n",
    "    dataLoader = DataLoader(dataset, batch_size=BATCH_SIZE)\n",
    "\n",
    "    for curEpoch in range(EPOCHS):\n",
    "        # Reset seed so random sine data is generated, otherwise RNG is repeated\n",
    "        np.random.seed()\n",
    "\n",
    "        # Gather input data & labels\n",
    "        inL, inR, labelX, labelY, _ = next(iter(dataLoader))\n",
    "#         inL, inR, _, _, labelAzi = next(iter(dataLoader))\n",
    "        inL = inL.double().to(device)\n",
    "        inR = inR.double().to(device)\n",
    "#         labelAzi = labelAzi.double().to(device)\n",
    "        labelX = labelX.double().to(device)\n",
    "        labelY = labelY.double().to(device)\n",
    "\n",
    "        # Training loop\n",
    "        optimiser.zero_grad()\n",
    "        outputX, outputY = net(inL, inR, debug = False)\n",
    "        loss = criterion(torch.squeeze(outputX), labelX) + criterion(torch.squeeze(outputY), labelY)\n",
    "        loss.backward()\n",
    "        optimiser.step()\n",
    "\n",
    "        if curEpoch % STEP_SIZE == 0: \n",
    "            # Log loss in tensorboard as scalars\n",
    "            logger.scalar_summary(\"loss\", loss.item(), curEpoch)\n",
    "\n",
    "            outputXnp = outputX.detach().cpu().numpy()\n",
    "            outputYnp = outputY.detach().cpu().numpy()\n",
    "            labelXnp = labelX.detach().cpu().numpy()\n",
    "            labelYnp = labelY.detach().cpu().numpy()\n",
    "\n",
    "            # Plot the predicted vs actual angles\n",
    "            if curEpoch % 100 == 0:\n",
    "                print(\"Loss of epoch \"+str(curEpoch)+\" = \"+str(loss.item()))\n",
    "                \n",
    "                plt.scatter(labelXnp, outputXnp, c=\"red\", label = \"X\")\n",
    "                plt.title(\"Pred X (red) and Y (blue) coords vs actual coords of epoch \" + str(curEpoch) + \" of radius = \" + str(RADII[i]))\n",
    "                plt.xlabel(\"Actual X/Y values\")\n",
    "                plt.ylabel(\"Predicted X/Y values\")\n",
    "                plt.legend()\n",
    "                plt.show()\n",
    "\n",
    "                plt.scatter(labelYnp, outputYnp, c=\"blue\", label = \"Y\")\n",
    "                plt.title(\"Pred X (red) and Y (blue) coords vs actual coords of epoch \" + str(curEpoch) + \" of radius = \" + str(RADII[i]))\n",
    "                plt.xlabel(\"Actual X/Y values\")\n",
    "                plt.ylabel(\"Predicted X/Y values\")\n",
    "                plt.legend()\n",
    "                plt.show()\n",
    "#                 plt.scatter(labelAzinp, outputnp)\n",
    "#                 plt.title(\"Pred azi vs actual azi of epoch \"+str(curEpoch)+\" of radius = \"+str(RAD))\n",
    "#                 plt.xlabel(\"Actual azi\")\n",
    "#                 plt.ylabel(\"Predic azi\")\n",
    "#                 plt.show()\n",
    "\n",
    "            # Log gradients and weights in tensorboard as distributions and histograms\n",
    "            for tag, value in net.named_parameters():\n",
    "                tag = tag.replace('.', '/')\n",
    "                logger.histo_summary(tag, value.data.cpu().numpy(), curEpoch)\n",
    "                logger.histo_summary(tag+'/grad', value.grad.data.cpu().numpy(), curEpoch)\n",
    "\n",
    "                # Log gradient of last layer as scalar\n",
    "                if \"fc\" in tag and \"weight\" in tag:\n",
    "                    last_grad_norm = np.sqrt(np.mean(np.square(value.grad.data.cpu().numpy())))\n",
    "                    logger.scalar_summary(\"last_grad_norm\", last_grad_norm, curEpoch)\n",
    "\n",
    "        curEpoch += 1\n",
    "\n",
    "    torch.save(net.state_dict(), \"ConvNet_CosLoss\")\n",
    "\n"
   ]
  },
  {
   "cell_type": "code",
   "execution_count": null,
   "metadata": {
    "colab": {
     "base_uri": "https://localhost:8080/",
     "height": 231
    },
    "colab_type": "code",
    "id": "G6B4ZvX6wmgX",
    "outputId": "27d21ccb-7d18-4d0e-df27-95af6080feea"
   },
   "outputs": [],
   "source": [
    "# Test set\n",
    "net = net.to(\"cpu\")     # To prevent GPU out of memory\n",
    "inL, inR, labelX, labelY = next(iter(dataLoader))\n",
    "outputX, outputY = net(inL, inR, False)#, debug = True)\n",
    "print(np.std(np.abs(labelX.detach().numpy()-torch.squeeze(outputX.detach()).numpy())))\n",
    "print(np.abs(labelX.detach().numpy()-torch.squeeze(outputX.detach()).numpy()))\n"
   ]
  },
  {
   "cell_type": "code",
   "execution_count": null,
   "metadata": {
    "colab": {
     "base_uri": "https://localhost:8080/",
     "height": 579
    },
    "colab_type": "code",
    "id": "e9_heAYLwmga",
    "outputId": "83234068-7403-4568-b629-d2062b1ec735"
   },
   "outputs": [],
   "source": [
    "# Plot angles that look alike\n",
    "# ind1 = 0\n",
    "# ind2 = NR_ANGLES-1\n",
    "# signalsL, signalsR = dataset.gatherSignals()\n",
    "# plt.plot(signalsL[ind1], label=\"left\")\n",
    "# plt.plot(signalsR[ind1], label=\"right\")\n",
    "# plt.title(\"Signals for azi=\" + str(azis[ind1]))\n",
    "# plt.legend()\n",
    "# plt.show()\n",
    "# plt.plot(signalsL[ind2], label=\"left\")\n",
    "# plt.plot(signalsR[ind2], label=\"right\")\n",
    "# plt.title(\"Signals for azi=\" + str(azis[ind2]))\n",
    "# plt.legend()\n",
    "# plt.show()\n",
    "\n",
    "# Plot 2 signals to make sure data loads properly\n",
    "inL, inR, labelX, labelY = next(iter(dataLoader))\n",
    "plt.plot(inL.numpy()[0], label=\"left\")\n",
    "plt.plot(inR.numpy()[0], label=\"right\")\n",
    "print(np.std(inL.numpy()), np.std(inR.numpy()))\n",
    "plt.title(\"Signals for x=\" + str(labelX[0].item()) + \" and y=\"+str(labelY[0].item()))\n",
    "plt.legend()\n",
    "plt.show()\n",
    "plt.plot(inL.numpy()[1], label=\"left\")\n",
    "plt.plot(inR.numpy()[1], label=\"right\")\n",
    "print(np.std(inL.numpy()), np.std(inR.numpy()))\n",
    "plt.title(\"Signals for x=\" + str(labelX[1].item()) + \" and y=\"+str(labelY[1].item()))\n",
    "plt.legend()\n",
    "plt.show()\n",
    "\n"
   ]
  },
  {
   "cell_type": "code",
   "execution_count": null,
   "metadata": {
    "colab": {},
    "colab_type": "code",
    "id": "Y20m0lu4wmgc"
   },
   "outputs": [],
   "source": []
  }
 ],
 "metadata": {
  "accelerator": "GPU",
  "colab": {
   "collapsed_sections": [],
   "name": "notebook_v3.ipynb",
   "provenance": [],
   "version": "0.3.2"
  },
  "kernelspec": {
   "display_name": "Python 3",
   "language": "python",
   "name": "python3"
  },
  "language_info": {
   "codemirror_mode": {
    "name": "ipython",
    "version": 3
   },
   "file_extension": ".py",
   "mimetype": "text/x-python",
   "name": "python",
   "nbconvert_exporter": "python",
   "pygments_lexer": "ipython3",
   "version": "3.7.2"
  }
 },
 "nbformat": 4,
 "nbformat_minor": 1
}
